{
 "cells": [
  {
   "cell_type": "code",
   "execution_count": 2,
   "metadata": {},
   "outputs": [],
   "source": [
    "import numpy as np\n",
    "import math"
   ]
  },
  {
   "cell_type": "code",
   "execution_count": 19,
   "metadata": {},
   "outputs": [],
   "source": [
    "a = int(1/(0.002*1.25)/2)\n",
    "b = np.sign(0.1)"
   ]
  },
  {
   "cell_type": "code",
   "execution_count": 16,
   "metadata": {},
   "outputs": [],
   "source": [
    "def H_f(c,x):\n",
    "    return 0.5*(np.sign(x-c)+1)*1"
   ]
  },
  {
   "cell_type": "code",
   "execution_count": 25,
   "metadata": {},
   "outputs": [
    {
     "name": "stdout",
     "output_type": "stream",
     "text": [
      "end= [0.  0.5 0.5 0. ]\n",
      "ranger= [[0.5 0. ]\n",
      " [0.  0.5]\n",
      " [0.  0.5]\n",
      " [0.5 0. ]]\n",
      "comparison= [1 0 0 1]\n",
      "new ranger= [[0.  0.5]\n",
      " [0.  0.5]\n",
      " [0.  0.5]\n",
      " [0.  0.5]]\n",
      "gait_region= [[-0.1  0.   0.5]\n",
      " [ 0.   0.5  1.1]\n",
      " [ 0.   0.5  1.1]\n",
      " [-0.1  0.   0.5]]\n",
      "gait_exp= [[0. 1.]\n",
      " [1. 0.]\n",
      " [1. 0.]\n",
      " [0. 1.]]\n",
      "leg_states= [1 0 0 1]\n",
      "leg_phase_timings_norm= [[ 0. 11.]\n",
      " [11.  0.]\n",
      " [11.  0.]\n",
      " [ 0. 11.]]\n"
     ]
    }
   ],
   "source": [
    "offset = np.array([0.5,0,0,0.5])\n",
    "gait_regions = np.array([[-0.1,0.0,1.1], [-0.1,0.0,1.1], [-0.1,0.0,1.1], [-0.1,0.0,1.1]])\n",
    "distr = 0.5\n",
    "end = (offset + distr)%1.0\n",
    "ranger = np.stack((offset, end), axis=-1)\n",
    "print('end=', end)\n",
    "print('ranger=', ranger)\n",
    "comparison = (ranger[:,0]>ranger[:,1]).astype(int)\n",
    "ranger.sort(axis=1)\n",
    "print('comparison=', comparison)\n",
    "print('new ranger=', ranger)\n",
    "for i in range(4):\n",
    "    gait_regions[i,comparison[i]:comparison[i]+2]=ranger[i]\n",
    "print('gait_region=', gait_regions)\n",
    "stance_timing = np.array([(1-distr),distr])\n",
    "gait_exp = -((np.stack((end,offset),axis=-1)+stance_timing)%1.0)/stance_timing+1 # neutral_times_phases\n",
    "print('gait_exp=', gait_exp)\n",
    "t = 0.25*np.array((4,))\n",
    "leg_states = (np.round(H_f(gait_regions[:,0],t)-H_f(gait_regions[:,1],t)+H_f(gait_regions[:,2],t))).astype(int)\n",
    "print('leg_states=', leg_states)\n",
    "leg_phase_timings = gait_exp*stance_timing\n",
    "leg_states2 = np.array([1-leg_states,leg_states]).T\n",
    "norm_delta_time = 5\n",
    "leg_phase_timings = leg_states2*(leg_phase_timings+norm_delta_time)\n",
    "leg_phase_timings_norm = leg_phase_timings/stance_timing\n",
    "print('leg_phase_timings_norm=', leg_phase_timings_norm)"
   ]
  }
 ],
 "metadata": {
  "interpreter": {
   "hash": "e31aef8222fb7c235d2ed8e74ce17e973738f89b37261e7466b7a63a6dfb1214"
  },
  "kernelspec": {
   "display_name": "Python 3.9.13 64-bit",
   "language": "python",
   "name": "python3"
  },
  "language_info": {
   "codemirror_mode": {
    "name": "ipython",
    "version": 3
   },
   "file_extension": ".py",
   "mimetype": "text/x-python",
   "name": "python",
   "nbconvert_exporter": "python",
   "pygments_lexer": "ipython3",
   "version": "3.9.13"
  },
  "orig_nbformat": 4
 },
 "nbformat": 4,
 "nbformat_minor": 2
}
