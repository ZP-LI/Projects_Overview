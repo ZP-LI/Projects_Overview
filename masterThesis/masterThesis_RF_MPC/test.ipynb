{
 "cells": [
  {
   "cell_type": "code",
   "execution_count": 3,
   "metadata": {},
   "outputs": [
    {
     "data": {
      "text/plain": [
       "array([0.79560295, 1.55038675])"
      ]
     },
     "execution_count": 3,
     "metadata": {},
     "output_type": "execute_result"
    }
   ],
   "source": [
    "import numpy as np\n",
    "import math\n",
    "\n",
    "l1 = 0.14\n",
    "l2 = 0.14\n",
    "vp = np.array([0, 0.2])\n",
    "\n",
    "c2 = (vp[0]**2 + vp[1]**2 - l1**2 - l2**2) / (2 * l1 * l2)\n",
    "s2 = np.sqrt(1 - c2**2)\n",
    "\n",
    "theta2 = math.atan2(s2, c2)\n",
    "theta1 = math.atan2(vp[1], vp[0]) - math.atan2(l2 * s2, l1 + l2 * c2)\n",
    "\n",
    "theta = np.array([theta1, theta2])\n",
    "theta"
   ]
  },
  {
   "cell_type": "code",
   "execution_count": 4,
   "metadata": {},
   "outputs": [
    {
     "data": {
      "text/plain": [
       "array([[ 0.99949442,  0.        , -0.03179464],\n",
       "       [ 0.        ,  1.        ,  0.        ],\n",
       "       [ 0.03179464,  0.        ,  0.99949442]])"
      ]
     },
     "execution_count": 4,
     "metadata": {},
     "output_type": "execute_result"
    }
   ],
   "source": [
    "import numpy as np\n",
    "from scipy.linalg import expm\n",
    "from fcns.hatMap import hatMap\n",
    "\n",
    "AngPos = np.array([0, -0.0318, 0])\n",
    "R = expm(hatMap(AngPos))\n",
    "R"
   ]
  }
 ],
 "metadata": {
  "kernelspec": {
   "display_name": "Python 3",
   "language": "python",
   "name": "python3"
  },
  "language_info": {
   "codemirror_mode": {
    "name": "ipython",
    "version": 3
   },
   "file_extension": ".py",
   "mimetype": "text/x-python",
   "name": "python",
   "nbconvert_exporter": "python",
   "pygments_lexer": "ipython3",
   "version": "3.8.10"
  },
  "orig_nbformat": 4,
  "vscode": {
   "interpreter": {
    "hash": "916dbcbb3f70747c44a77c7bcd40155683ae19c65e1c03b4aa3499c5328201f1"
   }
  }
 },
 "nbformat": 4,
 "nbformat_minor": 2
}
