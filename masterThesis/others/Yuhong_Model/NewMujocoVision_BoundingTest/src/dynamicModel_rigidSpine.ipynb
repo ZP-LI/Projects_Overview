{
 "cells": [
  {
   "cell_type": "code",
   "execution_count": 1,
   "metadata": {},
   "outputs": [],
   "source": [
    "# Load xml-model to mujoco\n",
    "from mujoco_py import load_model_from_path, MjSim, MjViewer\n",
    "import matplotlib.pyplot as plt\n",
    "import numpy as np\n",
    "import math\n",
    "\n",
    "from LegModel.legs import LegModel\n",
    "\n",
    "RUN_STEPS = 100\n",
    "\n",
    "model = load_model_from_path(\"../models/dynamic_4l_VerticalSpine.xml\") # test.xml / dynamic_4l_VerticalSpine.xml\n",
    "sim = MjSim(model)\n",
    "# viewer = MjViewer(sim)\n",
    "# sim_state = sim.get_state()\n",
    "# sim.set_state(sim_state)"
   ]
  },
  {
   "cell_type": "code",
   "execution_count": null,
   "metadata": {},
   "outputs": [],
   "source": [
    "# Test of the output of sim.model.body_inertia based on the a simple xml-file (../models/test.xml)\n",
    "# The outputs is only based on the local frame and the COM of the corresponding body\n",
    "# The 3 outputs of a certain body is the body inertia around [z, y, x] axis\n",
    "# -> In my works, only the 3rd output around x-axis will be considered, because the 2d dynamic model is in y-z plane\n",
    "bodymass = sim.model.body_inertia\n",
    "# print(bodymass)\n",
    "bodypos = sim.model.body_ipos\n",
    "# print(bodypos)"
   ]
  },
  {
   "cell_type": "code",
   "execution_count": 3,
   "metadata": {},
   "outputs": [],
   "source": [
    "# Run mujoco simulation for one timestep\n",
    "# relevant for the computation of COM postion in world frame as the actuator can change the position of the bodys\n",
    "# Initialization with all the actuators set to zeros\n",
    "ctrlData = [0.0, 0.0, 0.0, 0.0, 0.0, 0.0, 0.0, 0.0, 0,0,0,0,0]\n",
    "sim.data.ctrl[:] = ctrlData\n",
    "sim.step()"
   ]
  },
  {
   "cell_type": "code",
   "execution_count": null,
   "metadata": {},
   "outputs": [],
   "source": [
    "# Test of certain command\n",
    "bodyInertia = sim.model.body_inertia\n",
    "print(bodyInertia[:,-1])"
   ]
  },
  {
   "cell_type": "code",
   "execution_count": null,
   "metadata": {},
   "outputs": [],
   "source": [
    "# Summarize all the important parameters of bodies to a dataframe-table\n",
    "import pandas\n",
    "bodyName = []\n",
    "for i in range(sim.model.nbody):\n",
    "    bodyName.append(sim.model.body_id2name(i))\n",
    "    if bodyName[-1] == None:\n",
    "        bodyName[-1] = 'None'\n",
    "bodyMass = sim.model.body_mass\n",
    "body_COM_pos = sim.data.xipos\n",
    "df = pandas.DataFrame({\"Body Name\":bodyName, \"Body Mass\":bodyMass})\n",
    "df['Body COM-based Inertia in x-axis'] = sim.model.body_inertia[:,-1]\n",
    "df['Body COM Position'] = np.around(body_COM_pos, decimals=3).tolist()\n",
    "# df"
   ]
  },
  {
   "cell_type": "code",
   "execution_count": 6,
   "metadata": {},
   "outputs": [],
   "source": [
    "# Save the dataframe-table\n",
    "df.to_excel(\"ModelBodyInfo.xlsx\")"
   ]
  },
  {
   "cell_type": "code",
   "execution_count": 5,
   "metadata": {},
   "outputs": [
    {
     "name": "stdout",
     "output_type": "stream",
     "text": [
      "0.0014641083099278\n"
     ]
    }
   ],
   "source": [
    "# calculated the key parameters based on dynamic model with rigid spine\n",
    "body_COM_pos_y = body_COM_pos[:,1] # bodies pos in y-axis\n",
    "body_COM_pos_z = body_COM_pos[:,2] # bodies pos in z-axis\n",
    "body_mass = sum(bodyMass) # whole body mass\n",
    "COM_y = sum(body_COM_pos_y*bodyMass) / sum(bodyMass) # whole body COM position in y-axis\n",
    "COM_z = sum(body_COM_pos_z*bodyMass) / sum(bodyMass) # whole body COM position in z-axis\n",
    "\n",
    "i_xx_i = sim.model.body_inertia[:,-1] # com-based bodies moment of inertia around x-axis\n",
    "l_i_COM_quad = (body_COM_pos_y-COM_y)**2 + (body_COM_pos_z-COM_z)**2 # quadrat distance between each body COM pos and whole body COM pos\n",
    "i_xx_sum = sum(i_xx_i) + sum(bodyMass*l_i_COM_quad) #com-based whole body moment of inertia around x-axis\n",
    "print(i_xx_sum)"
   ]
  },
  {
   "cell_type": "code",
   "execution_count": null,
   "metadata": {},
   "outputs": [],
   "source": [
    "# COM pos of each subtree\n",
    "np.around(sim.data.subtree_com, decimals=3)"
   ]
  },
  {
   "cell_type": "code",
   "execution_count": 6,
   "metadata": {},
   "outputs": [],
   "source": [
    "# Summarize all the important parameters of sites to a dataframe-table\n",
    "import pandas\n",
    "siteName = []\n",
    "for i in range(sim.model.nsite):\n",
    "    siteName.append(sim.model.site_id2name(i))\n",
    "    if siteName[-1] == None:\n",
    "        siteName[-1] = 'None'\n",
    "site_pos = sim.data.site_xpos\n",
    "df2 = pandas.DataFrame({\"Site Name\":siteName})\n",
    "df2['Site Position'] = np.around(site_pos, decimals=3).tolist()\n",
    "# df2"
   ]
  },
  {
   "cell_type": "code",
   "execution_count": 168,
   "metadata": {},
   "outputs": [],
   "source": [
    "# Save the dataframe-table\n",
    "df2.to_excel(\"ModelSiteInfo.xlsx\")"
   ]
  },
  {
   "cell_type": "code",
   "execution_count": 7,
   "metadata": {},
   "outputs": [
    {
     "name": "stdout",
     "output_type": "stream",
     "text": [
      "[0.06928489 0.01211138] [-0.05690498 -0.01721967]\n"
     ]
    }
   ],
   "source": [
    "# Calculated the key lengths based on leg joints\n",
    "legJoint_fl_siteIndex = np.array([siteName.index(\"thigh_link_fl\"), siteName.index(\"leg_link_fl\")]) # index of global pos of two fl leg joint\n",
    "legJoint_fr_siteIndex = np.array([siteName.index(\"thigh_link_fr\"), siteName.index(\"leg_link_fr\")])\n",
    "legJoint_rl_siteIndex = np.array([siteName.index(\"thigh_link_rl\"), siteName.index(\"leg_link_rl\")])\n",
    "legJoint_rr_siteIndex = np.array([siteName.index(\"thigh_link_rr\"), siteName.index(\"leg_link_rr\")])\n",
    "# print(legJoint_fl_siteIndex,\"\\n\",legJoint_fr_siteIndex,\"\\n\",legJoint_rl_siteIndex,\"\\n\",legJoint_rr_siteIndex)\n",
    "legJoint_fl = (site_pos[legJoint_fl_siteIndex[0]]+site_pos[legJoint_fl_siteIndex[1]]) / 2.0 # global pos of midpoint of two fl leg joint\n",
    "legJoint_fr = (site_pos[legJoint_fr_siteIndex[0]]+site_pos[legJoint_fr_siteIndex[1]]) / 2.0\n",
    "legJoint_rl = (site_pos[legJoint_rl_siteIndex[0]]+site_pos[legJoint_rl_siteIndex[1]]) / 2.0\n",
    "legJoint_rr = (site_pos[legJoint_rr_siteIndex[0]]+site_pos[legJoint_rr_siteIndex[1]]) / 2.0\n",
    "# print(legJoint_fl,\"\\n\",legJoint_fr,\"\\n\",legJoint_rl,\"\\n\",legJoint_rr)\n",
    "legJoint_fl_offset = (site_pos[legJoint_fl_siteIndex[0]]-site_pos[legJoint_fl_siteIndex[1]]) / 2.0 # fixed global pos offset between the midpoint of two fl leg joint and fl leg joint \"leg_joint_fl\"\n",
    "legJoint_fr_offset = (site_pos[legJoint_fr_siteIndex[0]]-site_pos[legJoint_fr_siteIndex[1]]) / 2.0\n",
    "legJoint_rl_offset = (site_pos[legJoint_rl_siteIndex[0]]-site_pos[legJoint_rl_siteIndex[1]]) / 2.0\n",
    "legJoint_rr_offset = (site_pos[legJoint_rr_siteIndex[0]]-site_pos[legJoint_rr_siteIndex[1]]) / 2.0\n",
    "# print(legJoint_fl_offset,\"\\n\",legJoint_fr_offset,\"\\n\",legJoint_rl_offset,\"\\n\",legJoint_rr_offset)\n",
    "l_f_COM = np.array([COM_y,COM_z])-legJoint_fl[1:3] # distance between front leg joint and whole body COM in y-z plane\n",
    "l_r_COM = np.array([COM_y,COM_z])-legJoint_rl[1:3] # distance between rear leg joint and whole body COM in y-z plane\n",
    "print(l_f_COM,l_r_COM)"
   ]
  },
  {
   "cell_type": "code",
   "execution_count": 8,
   "metadata": {},
   "outputs": [
    {
     "data": {
      "text/plain": [
       "26"
      ]
     },
     "execution_count": 8,
     "metadata": {},
     "output_type": "execute_result"
    }
   ],
   "source": [
    "split_index = bodyName.index(\"v1\")\n",
    "split_index"
   ]
  },
  {
   "cell_type": "code",
   "execution_count": 10,
   "metadata": {},
   "outputs": [
    {
     "name": "stdout",
     "output_type": "stream",
     "text": [
      "0.028814376642772806 0.10198771617647803\n",
      "0.1398077037751029 0.12813726404844528\n"
     ]
    }
   ],
   "source": [
    "body_mass_f = sum(bodyMass[0:split_index]) # front torso body mass\n",
    "body_mass_r = sum(bodyMass[split_index:len(bodyMass)+1]) # rear torso body mass\n",
    "COM_y_f = sum(body_COM_pos_y[0:split_index]*bodyMass[0:split_index]) / body_mass_f # front body COM position in y-axis\n",
    "COM_z_f = sum(body_COM_pos_z[0:split_index]*bodyMass[0:split_index]) / body_mass_f # front body COM position in z-axis\n",
    "COM_y_r = sum(body_COM_pos_y[split_index:len(bodyMass)+1]*bodyMass[split_index:len(bodyMass)+1]) / body_mass_r # front body COM position in y-axis\n",
    "COM_z_r = sum(body_COM_pos_z[split_index:len(bodyMass)+1]*bodyMass[split_index:len(bodyMass)+1]) / body_mass_r # front body COM position in z-axis\n",
    "print(COM_y_f,COM_z_f)\n",
    "print(COM_y_r,COM_z_r)"
   ]
  },
  {
   "cell_type": "code",
   "execution_count": 12,
   "metadata": {},
   "outputs": [
    {
     "name": "stdout",
     "output_type": "stream",
     "text": [
      "0.00023304931341791666 0.00019905429722640516\n"
     ]
    }
   ],
   "source": [
    "# calculated the key parameters based on dynamic model with activ spine\n",
    "split_index = bodyName.index(\"v1\") # this index split bodies to the front/rear torso\n",
    "\n",
    "body_mass_f = sum(bodyMass[0:split_index]) # front torso body mass\n",
    "body_mass_r = sum(bodyMass[split_index:len(bodyMass)+1]) # rear torso body mass\n",
    "COM_y_f = sum(body_COM_pos_y[0:split_index]*bodyMass[0:split_index]) / body_mass_f # front body COM position in y-axis\n",
    "COM_z_f = sum(body_COM_pos_z[0:split_index]*bodyMass[0:split_index]) / body_mass_f # front body COM position in z-axis\n",
    "COM_y_r = sum(body_COM_pos_y[split_index:len(bodyMass)+1]*bodyMass[split_index:len(bodyMass)+1]) / body_mass_r # rear body COM position in y-axis\n",
    "COM_z_r = sum(body_COM_pos_z[split_index:len(bodyMass)+1]*bodyMass[split_index:len(bodyMass)+1]) / body_mass_r # rear body COM position in z-axis\n",
    "\n",
    "i_xx_i = sim.model.body_inertia[:,-1] # com-based bodies moment of inertia around x-axis\n",
    "l_i_COM_f_quad = (body_COM_pos_y-COM_y_f)**2 + (body_COM_pos_z-COM_z_f)**2 # quadrat distance between each body COM pos and front body COM pos\n",
    "l_i_COM_r_quad = (body_COM_pos_y-COM_y_r)**2 + (body_COM_pos_z-COM_z_r)**2 # quadrat distance between each body COM pos and rear body COM pos\n",
    "i_xx_f = sum(i_xx_i[0:split_index]) + sum(bodyMass[0:split_index]*l_i_COM_f_quad[0:split_index]) #com-based front body moment of inertia around x-axis\n",
    "i_xx_r = sum(i_xx_i[split_index:len(bodyMass)+1]) + sum(bodyMass[split_index:len(bodyMass)+1]*l_i_COM_r_quad[split_index:len(bodyMass)+1]) #com-based rear body moment of inertia around x-axis\n",
    "print(i_xx_f, i_xx_r)"
   ]
  },
  {
   "cell_type": "code",
   "execution_count": null,
   "metadata": {},
   "outputs": [],
   "source": [
    "# Blocks below not relevant"
   ]
  },
  {
   "cell_type": "code",
   "execution_count": 30,
   "metadata": {},
   "outputs": [
    {
     "data": {
      "text/plain": [
       "array([0., 0., 0., 0., 0., 0., 0., 0., 0., 0., 0., 0., 0.])"
      ]
     },
     "execution_count": 30,
     "metadata": {},
     "output_type": "execute_result"
    }
   ],
   "source": [
    "a = sim.data\n",
    "a.actuator_force"
   ]
  },
  {
   "cell_type": "code",
   "execution_count": null,
   "metadata": {},
   "outputs": [],
   "source": [
    "a.actuator_force # actuator force in actuation space*\n",
    "a.qfrc_actuator # actuator force\n",
    "a.qfrc_passive # passive force\n",
    "a.contact # list of all detected contacts \n",
    "a.sensordata # sensor data array (12-15 for foot touch sensors)"
   ]
  },
  {
   "cell_type": "code",
   "execution_count": 69,
   "metadata": {},
   "outputs": [
    {
     "name": "stdout",
     "output_type": "stream",
     "text": [
      "[0. 0. 0. 0. 0. 0. 0. 0. 0. 0. 0. 0. 0.]\n",
      "[-12.09   7.94 -12.09   7.94  -0.47  10.66  -0.47  10.66  -0.     0.\n",
      "  -0.    -0.     0.16]\n"
     ]
    }
   ],
   "source": [
    "b = np.zeros(13)\n",
    "print(b)\n",
    "c = np.array([-12.09, 7.94, -12.09, 7.94, -0.47, 10.66, -0.47, 10.66, -0., 0., -0., -0., 0.16])\n",
    "print(c)"
   ]
  },
  {
   "cell_type": "code",
   "execution_count": 79,
   "metadata": {},
   "outputs": [
    {
     "data": {
      "text/plain": [
       "[[],\n",
       " array([-12.09,   7.94, -12.09,   7.94,  -0.47,  10.66,  -0.47,  10.66,\n",
       "         -0.  ,   0.  ,  -0.  ,  -0.  ,   0.16]),\n",
       " array([-12.09,   7.94, -12.09,   7.94,  -0.47,  10.66,  -0.47,  10.66,\n",
       "         -0.  ,   0.  ,  -0.  ,  -0.  ,   0.16]),\n",
       " array([-12.09,   7.94, -12.09,   7.94,  -0.47,  10.66,  -0.47,  10.66,\n",
       "         -0.  ,   0.  ,  -0.  ,  -0.  ,   0.16])]"
      ]
     },
     "execution_count": 79,
     "metadata": {},
     "output_type": "execute_result"
    }
   ],
   "source": [
    "b = [[]]\n",
    "b.append(c)\n",
    "b.append(c)\n",
    "b.append(c)\n",
    "b"
   ]
  },
  {
   "cell_type": "code",
   "execution_count": 74,
   "metadata": {},
   "outputs": [
    {
     "data": {
      "text/plain": [
       "array([  0.  ,   0.  ,   0.  ,   0.  ,   0.  ,   0.  ,   0.  ,   0.  ,\n",
       "         0.  ,   0.  ,   0.  ,   0.  ,   0.  , -12.09,   7.94, -12.09,\n",
       "         7.94,  -0.47,  10.66,  -0.47,  10.66,  -0.  ,   0.  ,  -0.  ,\n",
       "        -0.  ,   0.16, -12.09,   7.94, -12.09,   7.94,  -0.47,  10.66,\n",
       "        -0.47,  10.66,  -0.  ,   0.  ,  -0.  ,  -0.  ,   0.16, -12.09,\n",
       "         7.94, -12.09,   7.94,  -0.47,  10.66,  -0.47,  10.66,  -0.  ,\n",
       "         0.  ,  -0.  ,  -0.  ,   0.16, -12.09,   7.94, -12.09,   7.94,\n",
       "        -0.47,  10.66,  -0.47,  10.66,  -0.  ,   0.  ,  -0.  ,  -0.  ,\n",
       "         0.16, -12.09,   7.94, -12.09,   7.94,  -0.47,  10.66,  -0.47,\n",
       "        10.66,  -0.  ,   0.  ,  -0.  ,  -0.  ,   0.16])"
      ]
     },
     "execution_count": 74,
     "metadata": {},
     "output_type": "execute_result"
    }
   ],
   "source": [
    "b = np.append(b, c)\n",
    "b"
   ]
  },
  {
   "cell_type": "code",
   "execution_count": 75,
   "metadata": {},
   "outputs": [
    {
     "data": {
      "text/plain": [
       "array([[  0.  ,   0.  ,   0.  ,   0.  ,   0.  ,   0.  ,   0.  ,   0.  ,\n",
       "          0.  ,   0.  ,   0.  ,   0.  ,   0.  ],\n",
       "       [-12.09,   7.94, -12.09,   7.94,  -0.47,  10.66,  -0.47,  10.66,\n",
       "         -0.  ,   0.  ,  -0.  ,  -0.  ,   0.16],\n",
       "       [-12.09,   7.94, -12.09,   7.94,  -0.47,  10.66,  -0.47,  10.66,\n",
       "         -0.  ,   0.  ,  -0.  ,  -0.  ,   0.16],\n",
       "       [-12.09,   7.94, -12.09,   7.94,  -0.47,  10.66,  -0.47,  10.66,\n",
       "         -0.  ,   0.  ,  -0.  ,  -0.  ,   0.16],\n",
       "       [-12.09,   7.94, -12.09,   7.94,  -0.47,  10.66,  -0.47,  10.66,\n",
       "         -0.  ,   0.  ,  -0.  ,  -0.  ,   0.16],\n",
       "       [-12.09,   7.94, -12.09,   7.94,  -0.47,  10.66,  -0.47,  10.66,\n",
       "         -0.  ,   0.  ,  -0.  ,  -0.  ,   0.16]])"
      ]
     },
     "execution_count": 75,
     "metadata": {},
     "output_type": "execute_result"
    }
   ],
   "source": [
    "b = np.reshape(b, (-1, 13))\n",
    "b"
   ]
  },
  {
   "cell_type": "code",
   "execution_count": 84,
   "metadata": {},
   "outputs": [],
   "source": [
    "with open(\"test.txt\", 'w') as f:\n",
    "\tfor index, one_b in enumerate(b):\n",
    "\t\tf.write(str(index))\n",
    "\t\tf.write(\": \")\n",
    "\t\tf.write(str(one_b))\n",
    "\t\tf.write('\\n')"
   ]
  },
  {
   "cell_type": "code",
   "execution_count": 56,
   "metadata": {},
   "outputs": [
    {
     "data": {
      "text/plain": [
       "array([ 0.  ,  7.94,  0.  ,  7.94,  0.  , 10.66,  0.  , 10.66, -0.  ,\n",
       "        0.  , -0.  , -0.  ,  0.16])"
      ]
     },
     "execution_count": 56,
     "metadata": {},
     "output_type": "execute_result"
    }
   ],
   "source": [
    "max_bc = np.maximum(b, c)\n",
    "max_bc"
   ]
  },
  {
   "cell_type": "code",
   "execution_count": 37,
   "metadata": {},
   "outputs": [
    {
     "ename": "ValueError",
     "evalue": "all input arrays must have the same shape",
     "output_type": "error",
     "traceback": [
      "\u001b[0;31m---------------------------------------------------------------------------\u001b[0m",
      "\u001b[0;31mValueError\u001b[0m                                Traceback (most recent call last)",
      "Cell \u001b[0;32mIn [37], line 1\u001b[0m\n\u001b[0;32m----> 1\u001b[0m b \u001b[39m=\u001b[39m np\u001b[39m.\u001b[39;49mstack((b, c))\n\u001b[1;32m      2\u001b[0m b\n",
      "File \u001b[0;32m<__array_function__ internals>:180\u001b[0m, in \u001b[0;36mstack\u001b[0;34m(*args, **kwargs)\u001b[0m\n",
      "File \u001b[0;32m~/.local/lib/python3.8/site-packages/numpy/core/shape_base.py:426\u001b[0m, in \u001b[0;36mstack\u001b[0;34m(arrays, axis, out)\u001b[0m\n\u001b[1;32m    424\u001b[0m shapes \u001b[39m=\u001b[39m {arr\u001b[39m.\u001b[39mshape \u001b[39mfor\u001b[39;00m arr \u001b[39min\u001b[39;00m arrays}\n\u001b[1;32m    425\u001b[0m \u001b[39mif\u001b[39;00m \u001b[39mlen\u001b[39m(shapes) \u001b[39m!=\u001b[39m \u001b[39m1\u001b[39m:\n\u001b[0;32m--> 426\u001b[0m     \u001b[39mraise\u001b[39;00m \u001b[39mValueError\u001b[39;00m(\u001b[39m'\u001b[39m\u001b[39mall input arrays must have the same shape\u001b[39m\u001b[39m'\u001b[39m)\n\u001b[1;32m    428\u001b[0m result_ndim \u001b[39m=\u001b[39m arrays[\u001b[39m0\u001b[39m]\u001b[39m.\u001b[39mndim \u001b[39m+\u001b[39m \u001b[39m1\u001b[39m\n\u001b[1;32m    429\u001b[0m axis \u001b[39m=\u001b[39m normalize_axis_index(axis, result_ndim)\n",
      "\u001b[0;31mValueError\u001b[0m: all input arrays must have the same shape"
     ]
    }
   ],
   "source": [
    "b = np.stack((b, c))\n",
    "b"
   ]
  },
  {
   "cell_type": "code",
   "execution_count": 5,
   "metadata": {},
   "outputs": [
    {
     "data": {
      "image/png": "[encoded data removed]",
      "text/plain": [
       "<Figure size 640x480 with 1 Axes>"
      ]
     },
     "metadata": {},
     "output_type": "display_data"
    }
   ],
   "source": [
    "import matplotlib.pyplot as plt\n",
    "import numpy as np\n",
    "\n",
    "y = [0, 0.1, 0.2, 0.3, 0.5, 0.7]\n",
    "y = np.array(y)\n",
    "x = np.zeros_like(y)\n",
    "x2 = x + 1\n",
    "y2 = [0, 0.3, 0.4, 0.45, 0.5, 0.7]\n",
    "\n",
    "plt.plot(x, y)\n",
    "# plt.grid()\n",
    "# plt.show()\n",
    "plt.plot(x2, y2)\n",
    "plt.grid()\n",
    "plt.show()\n"
   ]
  },
  {
   "cell_type": "code",
   "execution_count": 2,
   "metadata": {},
   "outputs": [
    {
     "name": "stdout",
     "output_type": "stream",
     "text": [
      "0.0\n"
     ]
    }
   ],
   "source": [
    "errorXList = [[0],[0],[0],[0]]\n",
    "print(errorXList[0][-1]*0.5)"
   ]
  }
 ],
 "metadata": {
  "kernelspec": {
   "display_name": "Python 3.8.10 64-bit",
   "language": "python",
   "name": "python3"
  },
  "language_info": {
   "codemirror_mode": {
    "name": "ipython",
    "version": 3
   },
   "file_extension": ".py",
   "mimetype": "text/x-python",
   "name": "python",
   "nbconvert_exporter": "python",
   "pygments_lexer": "ipython3",
   "version": "3.8.10"
  },
  "orig_nbformat": 4,
  "vscode": {
   "interpreter": {
    "hash": "916dbcbb3f70747c44a77c7bcd40155683ae19c65e1c03b4aa3499c5328201f1"
   }
  }
 },
 "nbformat": 4,
 "nbformat_minor": 2
}
