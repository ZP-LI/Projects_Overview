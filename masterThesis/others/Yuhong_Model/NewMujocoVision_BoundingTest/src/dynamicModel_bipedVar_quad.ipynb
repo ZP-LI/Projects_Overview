{
 "cells": [
  {
   "cell_type": "code",
   "execution_count": 1,
   "metadata": {},
   "outputs": [],
   "source": [
    "# Load xml-model to mujoco\n",
    "from mujoco_py import load_model_from_path, MjSim, MjViewer\n",
    "import matplotlib.pyplot as plt\n",
    "import numpy as np\n",
    "import math\n",
    "\n",
    "from LegModel.legs import LegModel\n",
    "\n",
    "RUN_STEPS = 100\n",
    "\n",
    "model = load_model_from_path(\"../models/dynamic_biped_quad_val.xml\") # test.xml / dynamic_4l_VerticalSpine.xml\n",
    "sim = MjSim(model)"
   ]
  },
  {
   "cell_type": "code",
   "execution_count": 2,
   "metadata": {},
   "outputs": [],
   "source": [
    "# Run mujoco simulation for one timestep\n",
    "# relevant for the computation of COM postion in world frame as the actuator can change the position of the bodys\n",
    "# Initialization with all the actuators set to zeros\n",
    "# viewer = MjViewer(sim)\n",
    "# viewer.cam.azimuth = 0\n",
    "# viewer.cam.lookat[0] += 0.25\n",
    "# viewer.cam.lookat[1] += -0.5\n",
    "# viewer.cam.distance = model.stat.extent * 0.5\n",
    "# viewer.run_speed = 2\n",
    "# sim_state = sim.get_state()\n",
    "# sim.set_state(sim_state)\n",
    "\n",
    "ctrlData = [0, 0, 0, 0, 0, 0, 0, 0]\n",
    "sim.data.ctrl[:] = ctrlData\n",
    "sim.step()\n",
    "\n",
    "# for i in range(500):\n",
    "#     sim.data.ctrl[:] = ctrlData\n",
    "#     sim.step()\n",
    "#     viewer.render()"
   ]
  },
  {
   "cell_type": "code",
   "execution_count": 8,
   "metadata": {},
   "outputs": [],
   "source": [
    "# Summarize all the important parameters of bodies to a dataframe-table\n",
    "import pandas\n",
    "geomName = []\n",
    "for i in range(sim.model.ngeom):\n",
    "    geomName.append(sim.model.geom_id2name(i))\n",
    "    if geomName[-1] == None:\n",
    "        geomName[-1] = 'None'\n",
    "df_geom = pandas.DataFrame({\"Body Name\":geomName})\n",
    "# df"
   ]
  },
  {
   "cell_type": "code",
   "execution_count": 3,
   "metadata": {},
   "outputs": [],
   "source": [
    "# Summarize all the important parameters of bodies to a dataframe-table\n",
    "import pandas\n",
    "bodyName = []\n",
    "for i in range(sim.model.nbody):\n",
    "    bodyName.append(sim.model.body_id2name(i))\n",
    "    if bodyName[-1] == None:\n",
    "        bodyName[-1] = 'None'\n",
    "bodyMass = sim.model.body_mass\n",
    "body_COM_pos = sim.data.xipos\n",
    "df = pandas.DataFrame({\"Body Name\":bodyName, \"Body Mass\":bodyMass})\n",
    "df['Body COM-based Inertia in x-axis'] = sim.model.body_inertia[:,-1]\n",
    "df['Body COM Position'] = np.around(body_COM_pos, decimals=3).tolist()\n",
    "# df"
   ]
  },
  {
   "cell_type": "code",
   "execution_count": null,
   "metadata": {},
   "outputs": [],
   "source": [
    "# calculated the key parameters based on dynamic model with rigid spine\n",
    "body_COM_pos_y = body_COM_pos[:,1] # bodies pos in y-axis\n",
    "body_COM_pos_z = body_COM_pos[:,2] # bodies pos in z-axis\n",
    "body_mass = sum(bodyMass) # whole body mass\n",
    "COM_y = sum(body_COM_pos_y*bodyMass) / sum(bodyMass) # whole body COM position in y-axis\n",
    "COM_z = sum(body_COM_pos_z*bodyMass) / sum(bodyMass) # whole body COM position in z-axis\n",
    "\n",
    "i_xx_i = sim.model.body_inertia[:,-1] # com-based bodies moment of inertia around x-axis\n",
    "l_i_COM_quad = (body_COM_pos_y-COM_y)**2 + (body_COM_pos_z-COM_z)**2 # quadrat distance between each body COM pos and whole body COM pos\n",
    "i_xx_sum = sum(i_xx_i) + sum(bodyMass*l_i_COM_quad) #com-based whole body moment of inertia around x-axis\n",
    "print(i_xx_sum)"
   ]
  },
  {
   "cell_type": "code",
   "execution_count": 4,
   "metadata": {},
   "outputs": [],
   "source": [
    "# Summarize all the important parameters of sites to a dataframe-table\n",
    "import pandas\n",
    "siteName = []\n",
    "for i in range(sim.model.nsite):\n",
    "    siteName.append(sim.model.site_id2name(i))\n",
    "    if siteName[-1] == None:\n",
    "        siteName[-1] = 'None'\n",
    "site_pos = sim.data.site_xpos\n",
    "df2 = pandas.DataFrame({\"Site Name\":siteName})\n",
    "df2['Site Position'] = np.around(site_pos, decimals=3).tolist()\n",
    "# df2"
   ]
  },
  {
   "cell_type": "code",
   "execution_count": 5,
   "metadata": {},
   "outputs": [
    {
     "name": "stdout",
     "output_type": "stream",
     "text": [
      "Body COM pos:  [ 6.17314728e-13 -9.00726911e-04  4.19682762e-02]\n",
      "Left Front Foot Pos:  [ 0.0361     -0.03155802  0.0050382 ]\n",
      "Right Front Foot Pos:  [-0.0361     -0.03155802  0.0050382 ]\n",
      "Left Hint Foot Pos:  [0.0361     0.03544198 0.0050382 ]\n",
      "Right Hint Foot Pos:  [-0.0361      0.03544198  0.0050382 ]\n",
      "--------------------------------------------------\n",
      "Left Leg Link Pos:  [ 0.0361 -0.0455  0.0356]\n",
      "Right Leg Link Pos:  [-0.0361 -0.0455  0.0356]\n"
     ]
    }
   ],
   "source": [
    "# COM pos of each subtree\n",
    "# np.around(sim.data.subtree_com, decimals=3)\n",
    "print(\"Body COM pos: \", sim.data.subtree_com[0,:])\n",
    "# print(\"Body Contact point pos: \", sim.data.contact[-1].geom1)\n",
    "footendPos_fl = site_pos[siteName.index(\"ankle_fl\")]\n",
    "footendPos_fr = site_pos[siteName.index(\"ankle_fr\")]\n",
    "footendPos_rl = site_pos[siteName.index(\"ankle_rl\")]\n",
    "footendPos_rr = site_pos[siteName.index(\"ankle_rr\")]\n",
    "print(\"Left Front Foot Pos: \", footendPos_fl)\n",
    "print(\"Right Front Foot Pos: \", footendPos_fr)\n",
    "print(\"Left Hint Foot Pos: \", footendPos_rl)\n",
    "print(\"Right Hint Foot Pos: \", footendPos_rr)\n",
    "print(\"--------------------------------------------------\")\n",
    "legLinkPos_fl = site_pos[siteName.index(\"leg_link_fl\")]\n",
    "legLinkPos_fr = site_pos[siteName.index(\"leg_link_fr\")]\n",
    "print(\"Left Leg Link Pos: \", legLinkPos_fl)\n",
    "print(\"Right Leg Link Pos: \", legLinkPos_fr)"
   ]
  },
  {
   "cell_type": "code",
   "execution_count": null,
   "metadata": {},
   "outputs": [],
   "source": [
    "# Blocks below not relevant"
   ]
  },
  {
   "cell_type": "code",
   "execution_count": 20,
   "metadata": {},
   "outputs": [
    {
     "name": "stdout",
     "output_type": "stream",
     "text": [
      "[[-0.04226071]\n",
      " [ 0.01892811]]\n"
     ]
    }
   ],
   "source": [
    "def footendForce_2_torque(force_d, q1, q2):\n",
    "    j11 = - (31*math.sin(q1))/300 - (7*math.cos(math.acos((25*(((31*math.cos(q1))/1000 + (59*math.sin(q2))/5000)**2 + ((59*math.cos(q2))/5000 - (31*math.sin(q1))/1000 + 8/625)**2 + 11/8000))/(2*(((31*math.cos(q1))/1000 + (59*math.sin(q2))/5000)**2 + ((59*math.cos(q2))/5000 - (31*math.sin(q1))/1000 + 8/625)**2)**(1/2))) + math.asin(((31*math.cos(q1))/1000 + (59*math.sin(q2))/5000)/(((31*math.cos(q1))/1000 + (59*math.sin(q2))/5000)**2 + ((59*math.cos(q2))/5000 - (31*math.sin(q1))/1000 + 8/625)**2)**(1/2)))*(((25*((31*math.cos(q1)*((59*math.cos(q2))/5000 - (31*math.sin(q1))/1000 + 8/625))/500 + (31*math.sin(q1)*((31*math.cos(q1))/1000 + (59*math.sin(q2))/5000))/500))/(2*(((31*math.cos(q1))/1000 + (59*math.sin(q2))/5000)**2 + ((59*math.cos(q2))/5000 - (31*math.sin(q1))/1000 + 8/625)**2)**(1/2)) - (25*((31*math.cos(q1)*((59*math.cos(q2))/5000 - (31*math.sin(q1))/1000 + 8/625))/500 + (31*math.sin(q1)*((31*math.cos(q1))/1000 + (59*math.sin(q2))/5000))/500)*(((31*math.cos(q1))/1000 + (59*math.sin(q2))/5000)**2 + ((59*math.cos(q2))/5000 - (31*math.sin(q1))/1000 + 8/625)**2 + 11/8000))/(4*(((31*math.cos(q1))/1000 + (59*math.sin(q2))/5000)**2 + ((59*math.cos(q2))/5000 - (31*math.sin(q1))/1000 + 8/625)**2)**(3/2)))/(1 - (625*(((31*math.cos(q1))/1000 + (59*math.sin(q2))/5000)**2 + ((59*math.cos(q2))/5000 - (31*math.sin(q1))/1000 + 8/625)**2 + 11/8000)**2)/(4*((31*math.cos(q1))/1000 + (59*math.sin(q2))/5000)**2 + 4*((59*math.cos(q2))/5000 - (31*math.sin(q1))/1000 + 8/625)**2))**(1/2) - ((31*math.sin(q1))/(1000*(((31*math.cos(q1))/1000 + (59*math.sin(q2))/5000)**2 + ((59*math.cos(q2))/5000 - (31*math.sin(q1))/1000 + 8/625)**2)**(1/2)) - (((31*math.cos(q1)*((59*math.cos(q2))/5000 - (31*math.sin(q1))/1000 + 8/625))/500 + (31*math.sin(q1)*((31*math.cos(q1))/1000 + (59*math.sin(q2))/5000))/500)*((31*math.cos(q1))/1000 + (59*math.sin(q2))/5000))/(2*(((31*math.cos(q1))/1000 + (59*math.sin(q2))/5000)**2 + ((59*math.cos(q2))/5000 - (31*math.sin(q1))/1000 + 8/625)**2)**(3/2)))/(1 - ((31*math.cos(q1))/1000 + (59*math.sin(q2))/5000)**2/(((31*math.cos(q1))/1000 + (59*math.sin(q2))/5000)**2 + ((59*math.cos(q2))/5000 - (31*math.sin(q1))/1000 + 8/625)**2))**(1/2)))/75\n",
    "    j12 = (413*math.cos(q2))/15000 + (7*math.cos(math.acos((25*(((31*math.cos(q1))/1000 + (59*math.sin(q2))/5000)**2 + ((59*math.cos(q2))/5000 - (31*math.sin(q1))/1000 + 8/625)**2 + 11/8000))/(2*(((31*math.cos(q1))/1000 + (59*math.sin(q2))/5000)**2 + ((59*math.cos(q2))/5000 - (31*math.sin(q1))/1000 + 8/625)**2)**(1/2))) + math.asin(((31*math.cos(q1))/1000 + (59*math.sin(q2))/5000)/(((31*math.cos(q1))/1000 + (59*math.sin(q2))/5000)**2 + ((59*math.cos(q2))/5000 - (31*math.sin(q1))/1000 + 8/625)**2)**(1/2)))*(((25*((59*math.cos(q2)*((31*math.cos(q1))/1000 + (59*math.sin(q2))/5000))/2500 - (59*math.sin(q2)*((59*math.cos(q2))/5000 - (31*math.sin(q1))/1000 + 8/625))/2500))/(2*(((31*math.cos(q1))/1000 + (59*math.sin(q2))/5000)**2 + ((59*math.cos(q2))/5000 - (31*math.sin(q1))/1000 + 8/625)**2)**(1/2)) - (25*((59*math.cos(q2)*((31*math.cos(q1))/1000 + (59*math.sin(q2))/5000))/2500 - (59*math.sin(q2)*((59*math.cos(q2))/5000 - (31*math.sin(q1))/1000 + 8/625))/2500)*(((31*math.cos(q1))/1000 + (59*math.sin(q2))/5000)**2 + ((59*math.cos(q2))/5000 - (31*math.sin(q1))/1000 + 8/625)**2 + 11/8000))/(4*(((31*math.cos(q1))/1000 + (59*math.sin(q2))/5000)**2 + ((59*math.cos(q2))/5000 - (31*math.sin(q1))/1000 + 8/625)**2)**(3/2)))/(1 - (625*(((31*math.cos(q1))/1000 + (59*math.sin(q2))/5000)**2 + ((59*math.cos(q2))/5000 - (31*math.sin(q1))/1000 + 8/625)**2 + 11/8000)**2)/(4*((31*math.cos(q1))/1000 + (59*math.sin(q2))/5000)**2 + 4*((59*math.cos(q2))/5000 - (31*math.sin(q1))/1000 + 8/625)**2))**(1/2) - ((59*math.cos(q2))/(5000*(((31*math.cos(q1))/1000 + (59*math.sin(q2))/5000)**2 + ((59*math.cos(q2))/5000 - (31*math.sin(q1))/1000 + 8/625)**2)**(1/2)) - (((59*math.cos(q2)*((31*math.cos(q1))/1000 + (59*math.sin(q2))/5000))/2500 - (59*math.sin(q2)*((59*math.cos(q2))/5000 - (31*math.sin(q1))/1000 + 8/625))/2500)*((31*math.cos(q1))/1000 + (59*math.sin(q2))/5000))/(2*(((31*math.cos(q1))/1000 + (59*math.sin(q2))/5000)**2 + ((59*math.cos(q2))/5000 - (31*math.sin(q1))/1000 + 8/625)**2)**(3/2)))/(1 - ((31*math.cos(q1))/1000 + (59*math.sin(q2))/5000)**2/(((31*math.cos(q1))/1000 + (59*math.sin(q2))/5000)**2 + ((59*math.cos(q2))/5000 - (31*math.sin(q1))/1000 + 8/625)**2))**(1/2)))/75\n",
    "    j21 = (31*math.cos(q1))/300 - (7*math.sin(math.acos((25*(((31*math.cos(q1))/1000 + (59*math.sin(q2))/5000)**2 + ((59*math.cos(q2))/5000 - (31*math.sin(q1))/1000 + 8/625)**2 + 11/8000))/(2*(((31*math.cos(q1))/1000 + (59*math.sin(q2))/5000)**2 + ((59*math.cos(q2))/5000 - (31*math.sin(q1))/1000 + 8/625)**2)**(1/2))) + math.asin(((31*math.cos(q1))/1000 + (59*math.sin(q2))/5000)/(((31*math.cos(q1))/1000 + (59*math.sin(q2))/5000)**2 + ((59*math.cos(q2))/5000 - (31*math.sin(q1))/1000 + 8/625)**2)**(1/2)))*(((25*((31*math.cos(q1)*((59*math.cos(q2))/5000 - (31*math.sin(q1))/1000 + 8/625))/500 + (31*math.sin(q1)*((31*math.cos(q1))/1000 + (59*math.sin(q2))/5000))/500))/(2*(((31*math.cos(q1))/1000 + (59*math.sin(q2))/5000)**2 + ((59*math.cos(q2))/5000 - (31*math.sin(q1))/1000 + 8/625)**2)**(1/2)) - (25*((31*math.cos(q1)*((59*math.cos(q2))/5000 - (31*math.sin(q1))/1000 + 8/625))/500 + (31*math.sin(q1)*((31*math.cos(q1))/1000 + (59*math.sin(q2))/5000))/500)*(((31*math.cos(q1))/1000 + (59*math.sin(q2))/5000)**2 + ((59*math.cos(q2))/5000 - (31*math.sin(q1))/1000 + 8/625)**2 + 11/8000))/(4*(((31*math.cos(q1))/1000 + (59*math.sin(q2))/5000)**2 + ((59*math.cos(q2))/5000 - (31*math.sin(q1))/1000 + 8/625)**2)**(3/2)))/(1 - (625*(((31*math.cos(q1))/1000 + (59*math.sin(q2))/5000)**2 + ((59*math.cos(q2))/5000 - (31*math.sin(q1))/1000 + 8/625)**2 + 11/8000)**2)/(4*((31*math.cos(q1))/1000 + (59*math.sin(q2))/5000)**2 + 4*((59*math.cos(q2))/5000 - (31*math.sin(q1))/1000 + 8/625)**2))**(1/2) - ((31*math.sin(q1))/(1000*(((31*math.cos(q1))/1000 + (59*math.sin(q2))/5000)**2 + ((59*math.cos(q2))/5000 - (31*math.sin(q1))/1000 + 8/625)**2)**(1/2)) - (((31*math.cos(q1)*((59*math.cos(q2))/5000 - (31*math.sin(q1))/1000 + 8/625))/500 + (31*math.sin(q1)*((31*math.cos(q1))/1000 + (59*math.sin(q2))/5000))/500)*((31*math.cos(q1))/1000 + (59*math.sin(q2))/5000))/(2*(((31*math.cos(q1))/1000 + (59*math.sin(q2))/5000)**2 + ((59*math.cos(q2))/5000 - (31*math.sin(q1))/1000 + 8/625)**2)**(3/2)))/(1 - ((31*math.cos(q1))/1000 + (59*math.sin(q2))/5000)**2/(((31*math.cos(q1))/1000 + (59*math.sin(q2))/5000)**2 + ((59*math.cos(q2))/5000 - (31*math.sin(q1))/1000 + 8/625)**2))**(1/2)))/75\n",
    "    j22 = (413*math.sin(q2))/15000 + (7*math.sin(math.acos((25*(((31*math.cos(q1))/1000 + (59*math.sin(q2))/5000)**2 + ((59*math.cos(q2))/5000 - (31*math.sin(q1))/1000 + 8/625)**2 + 11/8000))/(2*(((31*math.cos(q1))/1000 + (59*math.sin(q2))/5000)**2 + ((59*math.cos(q2))/5000 - (31*math.sin(q1))/1000 + 8/625)**2)**(1/2))) + math.asin(((31*math.cos(q1))/1000 + (59*math.sin(q2))/5000)/(((31*math.cos(q1))/1000 + (59*math.sin(q2))/5000)**2 + ((59*math.cos(q2))/5000 - (31*math.sin(q1))/1000 + 8/625)**2)**(1/2)))*(((25*((59*math.cos(q2)*((31*math.cos(q1))/1000 + (59*math.sin(q2))/5000))/2500 - (59*math.sin(q2)*((59*math.cos(q2))/5000 - (31*math.sin(q1))/1000 + 8/625))/2500))/(2*(((31*math.cos(q1))/1000 + (59*math.sin(q2))/5000)**2 + ((59*math.cos(q2))/5000 - (31*math.sin(q1))/1000 + 8/625)**2)**(1/2)) - (25*((59*math.cos(q2)*((31*math.cos(q1))/1000 + (59*math.sin(q2))/5000))/2500 - (59*math.sin(q2)*((59*math.cos(q2))/5000 - (31*math.sin(q1))/1000 + 8/625))/2500)*(((31*math.cos(q1))/1000 + (59*math.sin(q2))/5000)**2 + ((59*math.cos(q2))/5000 - (31*math.sin(q1))/1000 + 8/625)**2 + 11/8000))/(4*(((31*math.cos(q1))/1000 + (59*math.sin(q2))/5000)**2 + ((59*math.cos(q2))/5000 - (31*math.sin(q1))/1000 + 8/625)**2)**(3/2)))/(1 - (625*(((31*math.cos(q1))/1000 + (59*math.sin(q2))/5000)**2 + ((59*math.cos(q2))/5000 - (31*math.sin(q1))/1000 + 8/625)**2 + 11/8000)**2)/(4*((31*math.cos(q1))/1000 + (59*math.sin(q2))/5000)**2 + 4*((59*math.cos(q2))/5000 - (31*math.sin(q1))/1000 + 8/625)**2))**(1/2) - ((59*math.cos(q2))/(5000*(((31*math.cos(q1))/1000 + (59*math.sin(q2))/5000)**2 + ((59*math.cos(q2))/5000 - (31*math.sin(q1))/1000 + 8/625)**2)**(1/2)) - (((59*math.cos(q2)*((31*math.cos(q1))/1000 + (59*math.sin(q2))/5000))/2500 - (59*math.sin(q2)*((59*math.cos(q2))/5000 - (31*math.sin(q1))/1000 + 8/625))/2500)*((31*math.cos(q1))/1000 + (59*math.sin(q2))/5000))/(2*(((31*math.cos(q1))/1000 + (59*math.sin(q2))/5000)**2 + ((59*math.cos(q2))/5000 - (31*math.sin(q1))/1000 + 8/625)**2)**(3/2)))/(1 - ((31*math.cos(q1))/1000 + (59*math.sin(q2))/5000)**2/(((31*math.cos(q1))/1000 + (59*math.sin(q2))/5000)**2 + ((59*math.cos(q2))/5000 - (31*math.sin(q1))/1000 + 8/625)**2))**(1/2)))/75\n",
    "    j = np.array([[j11, j12], [j21, j22]])\n",
    "    j_T = np.transpose(j)\n",
    "    torque = np.dot(j_T, force_d)\n",
    "\n",
    "    return torque\n",
    "\n",
    "q1 = - 17.3175/180*math.pi\n",
    "q2 = - 29.6815/180*math.pi\n",
    "force_d = np.array([[0], [1]])\n",
    "torque = -footendForce_2_torque(force_d, q1, q2)\n",
    "print(torque)"
   ]
  },
  {
   "cell_type": "code",
   "execution_count": 23,
   "metadata": {},
   "outputs": [
    {
     "data": {
      "text/plain": [
       "array([[3., 4.],\n",
       "       [3., 4.]])"
      ]
     },
     "execution_count": 23,
     "metadata": {},
     "output_type": "execute_result"
    }
   ],
   "source": [
    "import math\n",
    "import numpy as np\n",
    "\n",
    "# a = np.array([[1,2],[0,1]])\n",
    "# b = np.array([[2],[1]])\n",
    "# c = np.dot(a,b)\n",
    "# print(a, \"\\n\", b, \"\\n\", c)\n",
    "# d = np.append(np.transpose(c), np.transpose(c), 1)[0]\n",
    "# print(d)\n",
    "ini = np.empty((0,2))\n",
    "a = np.array([[1,2],[0,1]])\n",
    "c = np.array([[3, 4]])\n",
    "ini = np.append(ini, c, 0)\n",
    "ini = np.append(ini, c, 0)\n",
    "ini"
   ]
  },
  {
   "cell_type": "code",
   "execution_count": 7,
   "metadata": {},
   "outputs": [
    {
     "data": {
      "text/plain": [
       "array([-0.00830482,  0.00271565, -0.00830482,  0.00271565, -0.00830482,\n",
       "        0.00271565, -0.00830482,  0.00271565])"
      ]
     },
     "execution_count": 7,
     "metadata": {},
     "output_type": "execute_result"
    }
   ],
   "source": [
    "ctrlData = np.array([-0.00830482,  0.00271565, -0.00830482,  0.00271565])\n",
    "ctrlData = np.hstack((ctrlData, ctrlData))\n",
    "ctrlData"
   ]
  }
 ],
 "metadata": {
  "kernelspec": {
   "display_name": "Python 3.8.10 64-bit",
   "language": "python",
   "name": "python3"
  },
  "language_info": {
   "codemirror_mode": {
    "name": "ipython",
    "version": 3
   },
   "file_extension": ".py",
   "mimetype": "text/x-python",
   "name": "python",
   "nbconvert_exporter": "python",
   "pygments_lexer": "ipython3",
   "version": "3.8.10"
  },
  "orig_nbformat": 4,
  "vscode": {
   "interpreter": {
    "hash": "916dbcbb3f70747c44a77c7bcd40155683ae19c65e1c03b4aa3499c5328201f1"
   }
  }
 },
 "nbformat": 4,
 "nbformat_minor": 2
}
