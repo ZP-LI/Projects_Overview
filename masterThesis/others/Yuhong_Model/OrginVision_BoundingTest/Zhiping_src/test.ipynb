{
 "cells": [
  {
   "cell_type": "code",
   "execution_count": 2,
   "metadata": {},
   "outputs": [],
   "source": [
    "import numpy as np"
   ]
  },
  {
   "cell_type": "code",
   "execution_count": 8,
   "metadata": {},
   "outputs": [
    {
     "name": "stdout",
     "output_type": "stream",
     "text": [
      "[1 2 1 2 2 1 2 1 0 0 0 0]\n"
     ]
    }
   ],
   "source": [
    "p = np.array([1, 2])\n",
    "l_p = np.concatenate((p, p, np.flip(p), np.flip(p), np.array([0,0,0,0])))\n",
    "print(l_p)"
   ]
  },
  {
   "cell_type": "code",
   "execution_count": 3,
   "metadata": {},
   "outputs": [
    {
     "name": "stdout",
     "output_type": "stream",
     "text": [
      "[[ 1.08   -1.56    1.08   -1.56   -0.958   1.79   -0.958   1.79    0.\n",
      "   0.      0.      0.    ]\n",
      " [ 0.9075 -0.9     0.9075 -0.9    -0.791   1.06   -0.791   1.06    0.\n",
      "   0.      0.      0.    ]\n",
      " [ 0.735  -0.24    0.735  -0.24   -0.624   0.33   -0.624   0.33    0.\n",
      "   0.      0.      0.    ]\n",
      " [ 0.5625  0.42    0.5625  0.42   -0.457  -0.4    -0.457  -0.4     0.\n",
      "   0.      0.      0.    ]\n",
      " [ 0.39    1.08    0.39    1.08   -0.29   -1.13   -0.29   -1.13    0.\n",
      "   0.      0.      0.    ]]\n"
     ]
    }
   ],
   "source": [
    "ctrlData1 = np.array([1.08, -1.56, 1.08, -1.56, -0.958, 1.79, -0.958, 1.79, 0,0,0,0])\n",
    "ctrlData2 = np.array([0.39, 1.08, 0.39, 1.08, -0.29, -1.13, -0.29, -1.13, 0,0,0,0])\n",
    "matr = np.linspace(ctrlData1, ctrlData2, 5)\n",
    "print(matr)"
   ]
  }
 ],
 "metadata": {
  "kernelspec": {
   "display_name": "Python 3.8.10 64-bit",
   "language": "python",
   "name": "python3"
  },
  "language_info": {
   "codemirror_mode": {
    "name": "ipython",
    "version": 3
   },
   "file_extension": ".py",
   "mimetype": "text/x-python",
   "name": "python",
   "nbconvert_exporter": "python",
   "pygments_lexer": "ipython3",
   "version": "3.8.10"
  },
  "orig_nbformat": 4,
  "vscode": {
   "interpreter": {
    "hash": "916dbcbb3f70747c44a77c7bcd40155683ae19c65e1c03b4aa3499c5328201f1"
   }
  }
 },
 "nbformat": 4,
 "nbformat_minor": 2
}
