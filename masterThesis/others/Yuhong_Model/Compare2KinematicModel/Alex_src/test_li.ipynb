{
 "cells": [
  {
   "cell_type": "code",
   "execution_count": 3,
   "metadata": {},
   "outputs": [],
   "source": [
    "import numpy as np\n",
    "from mujoco_py import load_model_from_path, MjSim, MjViewer"
   ]
  },
  {
   "cell_type": "code",
   "execution_count": null,
   "metadata": {},
   "outputs": [],
   "source": [
    "model_name = \"dynamic_4l_t3.xml\"\n",
    "model_path = \"../models/\"+model_name\n",
    "model = load_model_from_path(model_path)\n",
    "sim = MjSim(model)\n",
    "# viewer = MjViewer(sim)\n",
    "\n",
    "q_legs = [0.0, 1.5, 0.0, 1.5, 0.0, -1.2, 0.0, -1.2]\n",
    "q_values = np.concatenate((q_legs,np.array(([0,0,0,0,0]))))\n",
    "sim.data.ctrl[:] = q_values\n",
    "sim.step()\n",
    "data_sim = sim.data.get_site_xpos(1)\n",
    "print(data_sim)\n",
    "# viewer.render()"
   ]
  },
  {
   "cell_type": "code",
   "execution_count": 6,
   "metadata": {},
   "outputs": [],
   "source": [
    "movePath = [[],[],[]]\n",
    "for i in range(3):\n",
    "    movePath[i].append([1])\n",
    "for i in range(3):\n",
    "    movePath[i].append([2])\n",
    "for i in range(3):\n",
    "    movePath[i].append([3])"
   ]
  },
  {
   "cell_type": "code",
   "execution_count": 11,
   "metadata": {},
   "outputs": [],
   "source": [
    "with open('TestTwoModel_Li.txt', 'w') as f:\n",
    "    f.write('Test:')\n",
    "    f.write('\\n')\n",
    "    for i in range(len(movePath[0])):\n",
    "        f.write(','.join([str(movePath[0][i]), str(movePath[1][i]), str(movePath[2][i])]))\n",
    "        f.write('\\n')"
   ]
  },
  {
   "cell_type": "code",
   "execution_count": 2,
   "metadata": {},
   "outputs": [
    {
     "name": "stdout",
     "output_type": "stream",
     "text": [
      "0.777677059173584\n"
     ]
    }
   ],
   "source": [
    "sum_time = 33.39746141433716\n",
    "total_time = 0.4856092929840088 + 2.2494571208953857 + 6.329741716384888 + 23.554976224899292\n",
    "delta_time = sum_time - total_time\n",
    "print(delta_time)"
   ]
  }
 ],
 "metadata": {
  "interpreter": {
   "hash": "916dbcbb3f70747c44a77c7bcd40155683ae19c65e1c03b4aa3499c5328201f1"
  },
  "kernelspec": {
   "display_name": "Python 3.8.10 64-bit",
   "language": "python",
   "name": "python3"
  },
  "language_info": {
   "codemirror_mode": {
    "name": "ipython",
    "version": 3
   },
   "file_extension": ".py",
   "mimetype": "text/x-python",
   "name": "python",
   "nbconvert_exporter": "python",
   "pygments_lexer": "ipython3",
   "version": "3.8.10"
  },
  "orig_nbformat": 4
 },
 "nbformat": 4,
 "nbformat_minor": 2
}
